{
 "cells": [
  {
   "cell_type": "code",
   "execution_count": 2,
   "id": "cc63111e",
   "metadata": {},
   "outputs": [],
   "source": [
    "import pandas as pd\n",
    "\n",
    "def serialize_csv_for_llm(file_path, max_rows=5):\n",
    "    \"\"\"\n",
    "    Reads a CSV file and returns a clean string format for LLM prompts.\n",
    "    Limits to `max_rows` to keep the input small.\n",
    "    \"\"\"\n",
    "    df = pd.read_csv(file_path)\n",
    "    sample = df.head(max_rows)\n",
    "    \n",
    "    # Create column header row\n",
    "    columns_line = \" | \".join(sample.columns)\n",
    "    \n",
    "    # Create data rows\n",
    "    rows = []\n",
    "    for _, row in sample.iterrows():\n",
    "        row_str = \" | \".join(str(cell) for cell in row)\n",
    "        rows.append(row_str)\n",
    "\n",
    "    # Combine everything\n",
    "    table_text = f\"Columns: {columns_line}\\n\\n\"\n",
    "    for idx, row in enumerate(rows):\n",
    "        table_text += f\"Row {idx+1}: {row}\\n\"\n",
    "    \n",
    "    return table_text\n"
   ]
  },
  {
   "cell_type": "code",
   "execution_count": 7,
   "id": "f74e0990",
   "metadata": {},
   "outputs": [],
   "source": [
    "def generate_prompt(table_text, instruction):\n",
    "    return f\"\"\"\n",
    "You are a smart table transformer.\n",
    "\n",
    "Task: {instruction}\n",
    "\n",
    "Here is the input data (in table format):\n",
    "{table_text}\n",
    "\n",
    "Please provide the transformed data in the same format.\n",
    "do not miss any data from the input file\n",
    "\"\"\"\n"
   ]
  },
  {
   "cell_type": "code",
   "execution_count": 8,
   "id": "494cba9e",
   "metadata": {},
   "outputs": [],
   "source": [
    "import requests\n",
    "\n",
    "def call_mistral(prompt):\n",
    "    response = requests.post(\n",
    "        \"http://localhost:11434/api/generate\",\n",
    "        json={\n",
    "            \"model\": \"mistral\",\n",
    "            \"prompt\": prompt,\n",
    "            \"temperature\": 0.3,\n",
    "            \"stream\": False\n",
    "        }\n",
    "    )\n",
    "    return response.json()[\"response\"].strip()\n"
   ]
  },
  {
   "cell_type": "code",
   "execution_count": 9,
   "id": "74873a05",
   "metadata": {},
   "outputs": [
    {
     "name": "stdout",
     "output_type": "stream",
     "text": [
      "\n",
      "✅ Transformed output saved to: transformed_output.txt\n"
     ]
    }
   ],
   "source": [
    "# Step 4: Full Pipeline Execution\n",
    "\n",
    "if __name__ == \"__main__\":\n",
    "    # ✅ Set your CSV file path here\n",
    "    csv_path = r\"C:\\Users\\sanka\\OneDrive\\Desktop\\Tabulax\\DATASETS\\Tabulax datasets\\ALL CSV\\Customer-Churn-Records.csv\"\n",
    "    output_file_path = \"transformed_output.txt\"\n",
    "\n",
    "    # Step 1: Serialize table\n",
    "    table_text = serialize_csv_for_llm(csv_path)\n",
    "\n",
    "    # Step 2: Define transformation instruction\n",
    "    instruction = \"Change all numerical values to the Indian Number System format (e.g., 1234567 → 12,34,567).\"\n",
    "\n",
    "    # Step 3: Generate prompt\n",
    "    prompt = generate_prompt(table_text, instruction)\n",
    "\n",
    "    # Step 4: Call Mistral and get response\n",
    "    response = call_mistral(prompt)\n",
    "\n",
    "    # Step 5: Save result to a file\n",
    "    with open(output_file_path, \"w\", encoding=\"utf-8\") as f:\n",
    "        f.write(response)\n",
    "\n",
    "    print(f\"\\n✅ Transformed output saved to: {output_file_path}\")"
   ]
  },
  {
   "cell_type": "code",
   "execution_count": null,
   "id": "93319dfd",
   "metadata": {},
   "outputs": [],
   "source": []
  }
 ],
 "metadata": {
  "kernelspec": {
   "display_name": "pytorch_gpu",
   "language": "python",
   "name": "python3"
  },
  "language_info": {
   "codemirror_mode": {
    "name": "ipython",
    "version": 3
   },
   "file_extension": ".py",
   "mimetype": "text/x-python",
   "name": "python",
   "nbconvert_exporter": "python",
   "pygments_lexer": "ipython3",
   "version": "3.9.21"
  }
 },
 "nbformat": 4,
 "nbformat_minor": 5
}
