{
 "cells": [
  {
   "cell_type": "code",
   "execution_count": 4,
   "id": "6873843f",
   "metadata": {},
   "outputs": [],
   "source": [
    "import pandas as pd\n",
    "from langchain_community.llms import Ollama\n",
    "from langchain_core.prompts import PromptTemplate\n",
    "from langchain_core.output_parsers import StrOutputParser\n"
   ]
  },
  {
   "cell_type": "code",
   "execution_count": 5,
   "id": "40c0d3d4",
   "metadata": {},
   "outputs": [],
   "source": [
    "def serialize_csv_for_llm(file_path, max_rows=100):\n",
    "    \"\"\"Reads a CSV and formats it into a clean string for an LLM prompt.\"\"\"\n",
    "    try:\n",
    "        df = pd.read_csv(file_path)\n",
    "    except FileNotFoundError:\n",
    "        return f\"Error: The file was not found at {file_path}\"\n",
    "    \n",
    "    sample = df.head(max_rows)\n",
    "\n",
    "    # Create column header row\n",
    "    columns_line = \" | \".join(sample.columns)\n",
    "\n",
    "    # Create data rows\n",
    "    rows = []\n",
    "    for _, row in sample.iterrows():\n",
    "        row_str = \" | \".join(str(cell) for cell in row)\n",
    "        rows.append(row_str)\n",
    "\n",
    "    # Combine everything into a single string\n",
    "    table_text = f\"Columns: {columns_line}\\n\\n\"\n",
    "    for idx, row in enumerate(rows):\n",
    "        table_text += f\"Row {idx+1}: {row}\\n\"\n",
    "    \n",
    "    return table_text"
   ]
  },
  {
   "cell_type": "code",
   "execution_count": 6,
   "id": "61a850f8",
   "metadata": {},
   "outputs": [],
   "source": [
    "template = \"\"\"\n",
    "You are an expert data transformer. Your task is to modify the provided table data based on a specific instruction.\n",
    "\n",
    "Instruction: {instruction}\n",
    "\n",
    "Here is the table data in a simplified text format:\n",
    "{table_text}\n",
    "\n",
    "Please apply the instruction to the table. \n",
    "- Preserve the exact output format (column headers and row prefixes).\n",
    "- Do not add any commentary, explanations, or code.\n",
    "- Ensure all original rows and columns are present in the output.\n",
    "\n",
    "Your final output should be only the transformed table data.\n",
    "\"\"\"\n",
    "prompt_template = PromptTemplate.from_template(template)"
   ]
  },
  {
   "cell_type": "code",
   "execution_count": 7,
   "id": "cebddd2b",
   "metadata": {},
   "outputs": [
    {
     "name": "stderr",
     "output_type": "stream",
     "text": [
      "C:\\Users\\sanka\\AppData\\Local\\Temp\\ipykernel_33908\\652803017.py:2: LangChainDeprecationWarning: The class `Ollama` was deprecated in LangChain 0.3.1 and will be removed in 1.0.0. An updated version of the class exists in the :class:`~langchain-ollama package and should be used instead. To use it run `pip install -U :class:`~langchain-ollama` and import as `from :class:`~langchain_ollama import OllamaLLM``.\n",
      "  llm = Ollama(model=\"mistral\", temperature=0.3)\n"
     ]
    }
   ],
   "source": [
    "# ✅ Instantiate local LLM (Ollama with 'mistral')\n",
    "llm = Ollama(model=\"mistral\", temperature=0.3)\n",
    "\n",
    "# ✅ Create LangChain chain\n",
    "chain = prompt_template | llm | StrOutputParser()"
   ]
  },
  {
   "cell_type": "code",
   "execution_count": 8,
   "id": "2e32b5db",
   "metadata": {},
   "outputs": [
    {
     "name": "stdout",
     "output_type": "stream",
     "text": [
      "Sending request to the model...\n",
      "Received response.\n",
      "\n",
      "✅ Transformed output saved to: transformed_output_langchain.csv\n"
     ]
    }
   ],
   "source": [
    "def run_transformation():\n",
    "    csv_path = r\"C:\\Users\\sanka\\OneDrive\\Desktop\\Tabulax\\DATASETS\\Tabulax datasets\\ALL CSV\\Govs-a.csv\"\n",
    "    output_file_path = \"transformed_output_langchain.csv\"\n",
    "\n",
    "    # Step 1: Serialize the CSV\n",
    "    table_text = serialize_csv_for_llm(csv_path)\n",
    "\n",
    "    # Step 2: Define transformation instruction\n",
    "    instruction = \"In the 'Name' column, convert each full name to the format 'FirstInitial. LastName' (e.g., 'John Smith' becomes 'J. Smith'). Preserve all other columns as they are.\"\n",
    "\n",
    "    # Step 3: Run the chain\n",
    "    print(\"Sending request to the model...\")\n",
    "    response = chain.invoke({\n",
    "        \"table_text\": table_text, \n",
    "        \"instruction\": instruction\n",
    "    })\n",
    "    print(\"Received response.\")\n",
    "\n",
    "    # Step 4: Save to file\n",
    "    with open(output_file_path, \"w\", encoding=\"utf-8\") as f:\n",
    "        f.write(response)\n",
    "\n",
    "    print(f\"\\n✅ Transformed output saved to: {output_file_path}\")\n",
    "\n",
    "# ✅ Call the transformation\n",
    "run_transformation()\n"
   ]
  },
  {
   "cell_type": "code",
   "execution_count": null,
   "id": "c169a58f",
   "metadata": {},
   "outputs": [],
   "source": []
  }
 ],
 "metadata": {
  "kernelspec": {
   "display_name": "pytorch_gpu",
   "language": "python",
   "name": "python3"
  },
  "language_info": {
   "codemirror_mode": {
    "name": "ipython",
    "version": 3
   },
   "file_extension": ".py",
   "mimetype": "text/x-python",
   "name": "python",
   "nbconvert_exporter": "python",
   "pygments_lexer": "ipython3",
   "version": "3.9.21"
  }
 },
 "nbformat": 4,
 "nbformat_minor": 5
}
